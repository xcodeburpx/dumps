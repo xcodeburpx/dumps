{
 "cells": [
  {
   "cell_type": "code",
   "execution_count": 1,
   "metadata": {},
   "outputs": [
    {
     "name": "stdout",
     "output_type": "stream",
     "text": [
      "/tmp/tmpdf0v_zqb\n"
     ]
    }
   ],
   "source": [
    "import numpy as np\n",
    "import tensorflow as tf\n",
    "import matplotlib.pyplot as plt\n",
    "%matplotlib inline\n",
    "\n",
    "import tempfile\n",
    "logdir = tempfile.mkdtemp()\n",
    "print(logdir)"
   ]
  },
  {
   "cell_type": "code",
   "execution_count": 2,
   "metadata": {
    "collapsed": true
   },
   "outputs": [],
   "source": [
    "b = tf.Variable(tf.zeros((100,)))\n",
    "W = tf.Variable(tf.random_uniform((784, 100),-1,1))\n",
    "\n",
    "x = tf.placeholder(tf.float32, (None, 784), name=\"x\")\n",
    "h_i = tf.nn.relu(tf.matmul(x, W) + b)"
   ]
  },
  {
   "cell_type": "code",
   "execution_count": 3,
   "metadata": {
    "collapsed": true
   },
   "outputs": [],
   "source": [
    "tf.reset_default_graph()"
   ]
  },
  {
   "cell_type": "code",
   "execution_count": 4,
   "metadata": {
    "collapsed": true
   },
   "outputs": [],
   "source": [
    "x_batch = np.linspace(-1,1,101)\n",
    "y_batch = x_batch * 2 + np.random.randn(*x_batch.shape) * 0.3"
   ]
  },
  {
   "cell_type": "code",
   "execution_count": 5,
   "metadata": {},
   "outputs": [
    {
     "data": {
      "text/plain": [
       "<matplotlib.collections.PathCollection at 0x7fbff11337f0>"
      ]
     },
     "execution_count": 5,
     "metadata": {},
     "output_type": "execute_result"
    },
    {
     "data": {
      "image/png": "[encoded data removed]",
      "text/plain": [
       "<matplotlib.figure.Figure at 0x7fbff11ea860>"
      ]
     },
     "metadata": {},
     "output_type": "display_data"
    }
   ],
   "source": [
    "plt.scatter(x_batch, y_batch)"
   ]
  },
  {
   "cell_type": "code",
   "execution_count": 6,
   "metadata": {},
   "outputs": [
    {
     "name": "stdout",
     "output_type": "stream",
     "text": [
      "(?,)\n"
     ]
    }
   ],
   "source": [
    "x = tf.placeholder(tf.float32, shape=(None,), name=\"x\")\n",
    "y = tf.placeholder(tf.float32, shape=(None,), name=\"y\")\n",
    "print(x.get_shape())"
   ]
  },
  {
   "cell_type": "code",
   "execution_count": 7,
   "metadata": {
    "collapsed": true
   },
   "outputs": [],
   "source": [
    "\n",
    "w = tf.Variable(np.random.normal(), name=\"W\")"
   ]
  },
  {
   "cell_type": "code",
   "execution_count": 8,
   "metadata": {
    "collapsed": true
   },
   "outputs": [],
   "source": [
    "y_pred = tf.multiply(w, x)"
   ]
  },
  {
   "cell_type": "code",
   "execution_count": 9,
   "metadata": {},
   "outputs": [
    {
     "name": "stdout",
     "output_type": "stream",
     "text": [
      "WARNING:tensorflow:From /home/kinshiryuu-burp/anaconda3/lib/python3.6/site-packages/tensorflow/python/util/tf_should_use.py:170: initialize_all_variables (from tensorflow.python.ops.variables) is deprecated and will be removed after 2017-03-02.\n",
      "Instructions for updating:\n",
      "Use `tf.global_variables_initializer` instead.\n"
     ]
    }
   ],
   "source": [
    "sess = tf.InteractiveSession()\n",
    "sess.run(tf.initialize_all_variables())"
   ]
  },
  {
   "cell_type": "code",
   "execution_count": 10,
   "metadata": {
    "collapsed": true
   },
   "outputs": [],
   "source": [
    "y_pred_batch = sess.run(y_pred, {x: x_batch})"
   ]
  },
  {
   "cell_type": "code",
   "execution_count": 11,
   "metadata": {},
   "outputs": [
    {
     "data": {
      "text/plain": [
       "[<matplotlib.lines.Line2D at 0x7fbff10b0d68>]"
      ]
     },
     "execution_count": 11,
     "metadata": {},
     "output_type": "execute_result"
    },
    {
     "data": {
      "image/png": "[encoded data removed]",
      "text/plain": [
       "<matplotlib.figure.Figure at 0x7fbff109ee48>"
      ]
     },
     "metadata": {},
     "output_type": "display_data"
    }
   ],
   "source": [
    "plt.figure(1)\n",
    "plt.scatter(x_batch, y_batch)\n",
    "plt.plot(x_batch, y_pred_batch)"
   ]
  },
  {
   "cell_type": "code",
   "execution_count": 12,
   "metadata": {
    "collapsed": true
   },
   "outputs": [],
   "source": [
    "cost = tf.reduce_mean(tf.square(y_pred - y))"
   ]
  },
  {
   "cell_type": "code",
   "execution_count": 13,
   "metadata": {
    "collapsed": true
   },
   "outputs": [],
   "source": [
    "\n",
    "summary_op = tf.summary.scalar(\"cost\", cost)"
   ]
  },
  {
   "cell_type": "code",
   "execution_count": 14,
   "metadata": {
    "collapsed": true
   },
   "outputs": [],
   "source": [
    "optimizer = tf.train.GradientDescentOptimizer(learning_rate=0.1)\n",
    "train_op = optimizer.minimize(cost)"
   ]
  },
  {
   "cell_type": "code",
   "execution_count": 15,
   "metadata": {},
   "outputs": [
    {
     "name": "stdout",
     "output_type": "stream",
     "text": [
      "WARNING:tensorflow:Passing a `GraphDef` to the SummaryWriter is deprecated. Pass a `Graph` object instead, such as `sess.graph`.\n"
     ]
    }
   ],
   "source": [
    "summary_writer = tf.summary.FileWriter(logdir, sess.graph_def)"
   ]
  },
  {
   "cell_type": "code",
   "execution_count": 16,
   "metadata": {},
   "outputs": [
    {
     "name": "stdout",
     "output_type": "stream",
     "text": [
      "3.57719\n",
      "3.11911\n",
      "2.72121\n",
      "2.37558\n",
      "2.07536\n",
      "1.81459\n",
      "1.58807\n",
      "1.39131\n",
      "1.2204\n",
      "1.07195\n",
      "0.942994\n",
      "0.830983\n",
      "0.733688\n",
      "0.649174\n",
      "0.575764\n",
      "0.511998\n",
      "0.45661\n",
      "0.408498\n",
      "0.366707\n",
      "0.330406\n",
      "0.298874\n",
      "0.271485\n",
      "0.247694\n",
      "0.227029\n",
      "0.209079\n",
      "0.193486\n",
      "0.179943\n",
      "0.168178\n",
      "0.157959\n",
      "0.149083\n"
     ]
    }
   ],
   "source": [
    "for t in range(30):\n",
    "    cost_t, summary, _ = sess.run([cost, summary_op, train_op], {x: x_batch, y: y_batch})\n",
    "    summary_writer.add_summary(summary, t)\n",
    "    print(cost_t.mean())"
   ]
  },
  {
   "cell_type": "code",
   "execution_count": 17,
   "metadata": {
    "collapsed": true
   },
   "outputs": [],
   "source": [
    "y_pred_batch = sess.run(y_pred, {x: x_batch})"
   ]
  },
  {
   "cell_type": "code",
   "execution_count": 18,
   "metadata": {},
   "outputs": [
    {
     "data": {
      "text/plain": [
       "[<matplotlib.lines.Line2D at 0x7fbfe84fa390>]"
      ]
     },
     "execution_count": 18,
     "metadata": {},
     "output_type": "execute_result"
    },
    {
     "data": {
      "image/png": "[encoded data removed]",
      "text/plain": [
       "<matplotlib.figure.Figure at 0x7fbfe855fc18>"
      ]
     },
     "metadata": {},
     "output_type": "display_data"
    }
   ],
   "source": [
    "\n",
    "plt.figure(1)\n",
    "plt.scatter(x_batch, y_batch)\n",
    "plt.plot(x_batch, y_pred_batch)"
   ]
  },
  {
   "cell_type": "code",
   "execution_count": 19,
   "metadata": {
    "collapsed": true
   },
   "outputs": [],
   "source": [
    "summary_writer.flush()"
   ]
  },
  {
   "cell_type": "code",
   "execution_count": 20,
   "metadata": {
    "collapsed": true
   },
   "outputs": [],
   "source": [
    "import tensorflow.contrib.legacy_seq2seq as seq2seq\n",
    "from tensorflow.python.ops import rnn_cell"
   ]
  },
  {
   "cell_type": "code",
   "execution_count": 21,
   "metadata": {
    "collapsed": true
   },
   "outputs": [],
   "source": [
    "tf.reset_default_graph()\n",
    "sess = tf.InteractiveSession()"
   ]
  },
  {
   "cell_type": "code",
   "execution_count": 22,
   "metadata": {
    "collapsed": true
   },
   "outputs": [],
   "source": [
    "seq_length = 5\n",
    "batch_size = 64\n",
    "\n",
    "vocab_size = 7\n",
    "embedding_dim = 50\n",
    "\n",
    "memory_dim = 100\n"
   ]
  },
  {
   "cell_type": "code",
   "execution_count": 23,
   "metadata": {
    "collapsed": true
   },
   "outputs": [],
   "source": [
    "with tf.device(\"/cpu:0\"):\n",
    "    enc_inp = [tf.placeholder(tf.int32, shape=(None,),\n",
    "                              name=\"inp%i\" % t)\n",
    "               for t in range(seq_length)]\n",
    "\n",
    "    labels = [tf.placeholder(tf.int32, shape=(None,),\n",
    "                            name=\"labels%i\" % t)\n",
    "              for t in range(seq_length)]\n",
    "\n",
    "    weights = [tf.ones_like(labels_t, dtype=tf.float32)\n",
    "               for labels_t in labels]"
   ]
  },
  {
   "cell_type": "code",
   "execution_count": 24,
   "metadata": {},
   "outputs": [
    {
     "name": "stdout",
     "output_type": "stream",
     "text": [
      "Tensor(\"GO_1:0\", shape=(?,), dtype=int32)\n"
     ]
    }
   ],
   "source": [
    "# Decoder input: prepend some \"GO\" token and drop the final\n",
    "# token of the encoder input\n",
    "with tf.device(\"/cpu:0\"):\n",
    "    dec_inp = ([tf.zeros_like(enc_inp[0], dtype=np.int32, name=\"GO\")]\n",
    "               + enc_inp[:-1])\n",
    "\n",
    "    # Initial memory value for recurrence.\n",
    "    prev_mem = tf.zeros((batch_size, memory_dim))\n",
    "\n",
    "print(tf.zeros_like(enc_inp[0], dtype=np.int32, name=\"GO\"))"
   ]
  },
  {
   "cell_type": "code",
   "execution_count": 25,
   "metadata": {},
   "outputs": [],
   "source": [
    "with tf.device(\"/cpu:0\"):\n",
    "    cell = rnn_cell.GRUCell(memory_dim)\n",
    "\n",
    "    dec_outputs, dec_memory = seq2seq.embedding_rnn_seq2seq(\n",
    "        enc_inp, dec_inp, cell, vocab_size, vocab_size, embedding_dim)"
   ]
  },
  {
   "cell_type": "code",
   "execution_count": 26,
   "metadata": {
    "collapsed": true
   },
   "outputs": [],
   "source": [
    "with tf.device(\"/cpu:0\"):\n",
    "\n",
    "    loss = seq2seq.sequence_loss(dec_outputs, labels, weights, vocab_size)"
   ]
  },
  {
   "cell_type": "code",
   "execution_count": 27,
   "metadata": {},
   "outputs": [],
   "source": [
    "with tf.device(\"/cpu:0\"):\n",
    "    tf.summary.scalar(\"loss\", loss)"
   ]
  },
  {
   "cell_type": "code",
   "execution_count": 28,
   "metadata": {},
   "outputs": [
    {
     "name": "stdout",
     "output_type": "stream",
     "text": [
      "INFO:tensorflow:Summary name magnitude at t=1 is illegal; using magnitude_at_t_1 instead.\n"
     ]
    }
   ],
   "source": [
    "with tf.device(\"/cpu:0\"):\n",
    "    magnitude = tf.sqrt(tf.reduce_sum(tf.square(dec_memory[1])))\n",
    "    tf.summary.scalar(\"magnitude at t=1\", magnitude)"
   ]
  },
  {
   "cell_type": "code",
   "execution_count": 29,
   "metadata": {
    "collapsed": true
   },
   "outputs": [],
   "source": [
    "with tf.device(\"/cpu:0\"):\n",
    "    summary_op = tf.summary.merge_all()"
   ]
  },
  {
   "cell_type": "code",
   "execution_count": 30,
   "metadata": {
    "collapsed": true
   },
   "outputs": [],
   "source": [
    "\n",
    "learning_rate = 0.05\n",
    "momentum = 0.9\n",
    "with tf.device(\"/cpu:0\"):\n",
    "    optimizer = tf.train.MomentumOptimizer(learning_rate, momentum)\n",
    "    train_op = optimizer.minimize(loss)"
   ]
  },
  {
   "cell_type": "code",
   "execution_count": 31,
   "metadata": {},
   "outputs": [
    {
     "name": "stdout",
     "output_type": "stream",
     "text": [
      "/tmp/tmpuesr675k\n",
      "WARNING:tensorflow:Passing a `GraphDef` to the SummaryWriter is deprecated. Pass a `Graph` object instead, such as `sess.graph`.\n"
     ]
    }
   ],
   "source": [
    "logdir = tempfile.mkdtemp()\n",
    "print(logdir)\n",
    "summary_writer = tf.summary.FileWriter(logdir, sess.graph_def)"
   ]
  },
  {
   "cell_type": "code",
   "execution_count": 32,
   "metadata": {
    "collapsed": true
   },
   "outputs": [],
   "source": [
    "sess.run(tf.global_variables_initializer())"
   ]
  },
  {
   "cell_type": "code",
   "execution_count": 33,
   "metadata": {
    "collapsed": true
   },
   "outputs": [],
   "source": [
    "\n",
    "def train_batch(batch_size):\n",
    "    with tf.device(\"/cpu:0\"):\n",
    "        X = [np.random.choice(vocab_size, size=(seq_length,), replace=False)\n",
    "             for _ in range(batch_size)]\n",
    "        Y = X[:]\n",
    "\n",
    "        # Dimshuffle to seq_len * batch_size\n",
    "        X = np.array(X).T\n",
    "        Y = np.array(Y).T\n",
    "\n",
    "        feed_dict = {enc_inp[t]: X[t] for t in range(seq_length)}\n",
    "        feed_dict.update({labels[t]: Y[t] for t in range(seq_length)})\n",
    "\n",
    "        _, loss_t, summary = sess.run([train_op, loss, summary_op], feed_dict)\n",
    "    return loss_t, summary"
   ]
  },
  {
   "cell_type": "code",
   "execution_count": 34,
   "metadata": {},
   "outputs": [
    {
     "name": "stdout",
     "output_type": "stream",
     "text": [
      "1.949\n",
      "1.94226\n",
      "1.93869\n",
      "1.94687\n",
      "1.93835\n",
      "1.94604\n",
      "1.93718\n",
      "1.93486\n",
      "1.92325\n",
      "1.92037\n",
      "1.91803\n",
      "1.92054\n",
      "1.91143\n",
      "1.9085\n",
      "1.90461\n",
      "1.89999\n",
      "1.89519\n",
      "1.88353\n",
      "1.88847\n",
      "1.87927\n",
      "1.87516\n",
      "1.86941\n",
      "1.87024\n",
      "1.86226\n",
      "1.85546\n",
      "1.84727\n",
      "1.84419\n",
      "1.83606\n",
      "1.84112\n",
      "1.82668\n",
      "1.83262\n",
      "1.82415\n",
      "1.81589\n",
      "1.81202\n",
      "1.80862\n",
      "1.79835\n",
      "1.79065\n",
      "1.78537\n",
      "1.78457\n",
      "1.79152\n",
      "1.77746\n",
      "1.77582\n",
      "1.75665\n",
      "1.7582\n",
      "1.75308\n",
      "1.7518\n",
      "1.73644\n",
      "1.74263\n",
      "1.72984\n",
      "1.71196\n",
      "1.71098\n",
      "1.70567\n",
      "1.70197\n",
      "1.69071\n",
      "1.69065\n",
      "1.67565\n",
      "1.66853\n",
      "1.66601\n",
      "1.65346\n",
      "1.65584\n",
      "1.63347\n",
      "1.63014\n",
      "1.63439\n",
      "1.62317\n",
      "1.60218\n",
      "1.60188\n",
      "1.60477\n",
      "1.57895\n",
      "1.57907\n",
      "1.5561\n",
      "1.54878\n",
      "1.54468\n",
      "1.5334\n",
      "1.5296\n",
      "1.51799\n",
      "1.51381\n",
      "1.4948\n",
      "1.47947\n",
      "1.4753\n",
      "1.46497\n",
      "1.45326\n",
      "1.44443\n",
      "1.42466\n",
      "1.41893\n",
      "1.40913\n",
      "1.39791\n",
      "1.37996\n",
      "1.37607\n",
      "1.36515\n",
      "1.33488\n",
      "1.3375\n",
      "1.31912\n",
      "1.31205\n",
      "1.30549\n",
      "1.27462\n",
      "1.29021\n",
      "1.2709\n",
      "1.2405\n",
      "1.23136\n",
      "1.23289\n",
      "1.21913\n",
      "1.18957\n",
      "1.17986\n",
      "1.16465\n",
      "1.13505\n",
      "1.13072\n",
      "1.13924\n",
      "1.11582\n",
      "1.09614\n",
      "1.07128\n",
      "1.07952\n",
      "1.06151\n",
      "1.03621\n",
      "1.02722\n",
      "1.01255\n",
      "0.988726\n",
      "0.97497\n",
      "0.978328\n",
      "0.962004\n",
      "0.952466\n",
      "0.940969\n",
      "0.915715\n",
      "0.892946\n",
      "0.898654\n",
      "0.864662\n",
      "0.853774\n",
      "0.838454\n",
      "0.82114\n",
      "0.812408\n",
      "0.794765\n",
      "0.783646\n",
      "0.765849\n",
      "0.751989\n",
      "0.745559\n",
      "0.718368\n",
      "0.712199\n",
      "0.712097\n",
      "0.682416\n",
      "0.68069\n",
      "0.662424\n",
      "0.660394\n",
      "0.630045\n",
      "0.61895\n",
      "0.631499\n",
      "0.603973\n",
      "0.586537\n",
      "0.581373\n",
      "0.565701\n",
      "0.557722\n",
      "0.538945\n",
      "0.523294\n",
      "0.510647\n",
      "0.515774\n",
      "0.487697\n",
      "0.481554\n",
      "0.46788\n",
      "0.457801\n",
      "0.446587\n",
      "0.430429\n",
      "0.419231\n",
      "0.412243\n",
      "0.412758\n",
      "0.383754\n",
      "0.400791\n",
      "0.381631\n",
      "0.368496\n",
      "0.354222\n",
      "0.347211\n",
      "0.330793\n",
      "0.326153\n",
      "0.324181\n",
      "0.322985\n",
      "0.310928\n",
      "0.298435\n",
      "0.299097\n",
      "0.292732\n",
      "0.278543\n",
      "0.27731\n",
      "0.259743\n",
      "0.262101\n",
      "0.253987\n",
      "0.247699\n",
      "0.240289\n",
      "0.230585\n",
      "0.223815\n",
      "0.212953\n",
      "0.216106\n",
      "0.205422\n",
      "0.210028\n",
      "0.192847\n",
      "0.198871\n",
      "0.188694\n",
      "0.184844\n",
      "0.18301\n",
      "0.175511\n",
      "0.171799\n",
      "0.164811\n",
      "0.16531\n",
      "0.161972\n",
      "0.156928\n",
      "0.147795\n",
      "0.148528\n",
      "0.145653\n",
      "0.140969\n",
      "0.143646\n",
      "0.134597\n",
      "0.132517\n",
      "0.123569\n",
      "0.124153\n",
      "0.123303\n",
      "0.120263\n",
      "0.117164\n",
      "0.116299\n",
      "0.109456\n",
      "0.113944\n",
      "0.109988\n",
      "0.102492\n",
      "0.102507\n",
      "0.0990382\n",
      "0.104279\n",
      "0.0942625\n",
      "0.0941252\n",
      "0.090363\n",
      "0.0884558\n",
      "0.0836942\n",
      "0.0897807\n",
      "0.0864095\n",
      "0.0817094\n",
      "0.0849089\n",
      "0.0774623\n",
      "0.0777119\n",
      "0.0775477\n",
      "0.0734967\n",
      "0.0726175\n",
      "0.0725293\n",
      "0.0716452\n",
      "0.0688367\n",
      "0.0650945\n",
      "0.0669497\n",
      "0.0613888\n",
      "0.0643832\n",
      "0.060769\n",
      "0.0636122\n",
      "0.0597835\n",
      "0.0623839\n",
      "0.0583475\n",
      "0.0600963\n",
      "0.0587532\n",
      "0.0540737\n",
      "0.0567891\n",
      "0.0531983\n",
      "0.0553538\n",
      "0.0526746\n",
      "0.0503618\n",
      "0.0502089\n",
      "0.0510417\n",
      "0.0496754\n",
      "0.0496991\n",
      "0.050955\n",
      "0.045935\n",
      "0.0451448\n",
      "0.0486307\n",
      "0.0456979\n",
      "0.0437436\n",
      "0.0417739\n",
      "0.0441062\n",
      "0.0471531\n",
      "0.0399713\n",
      "0.0409527\n",
      "0.0441072\n",
      "0.0406125\n",
      "0.0392898\n",
      "0.0412466\n",
      "0.0364292\n",
      "0.0394527\n",
      "0.0389646\n",
      "0.0360189\n",
      "0.0359651\n",
      "0.0379381\n",
      "0.0381071\n",
      "0.0358748\n",
      "0.0334721\n",
      "0.0358112\n",
      "0.0334636\n",
      "0.0330926\n",
      "0.0321769\n",
      "0.0337137\n",
      "0.0323115\n",
      "0.0331363\n",
      "0.0320515\n",
      "0.0307025\n",
      "0.0313261\n",
      "0.0305671\n",
      "0.0312472\n",
      "0.0294458\n",
      "0.0302713\n",
      "0.0291644\n",
      "0.0308563\n",
      "0.0285213\n",
      "0.0284594\n",
      "0.0283682\n",
      "0.0289506\n",
      "0.0274007\n",
      "0.0284482\n",
      "0.0260948\n",
      "0.0285591\n",
      "0.0258065\n",
      "0.0265623\n",
      "0.0282123\n",
      "0.024723\n",
      "0.0251585\n",
      "0.0269785\n",
      "0.0249732\n",
      "0.0243631\n",
      "0.0238457\n",
      "0.0242391\n",
      "0.0248509\n",
      "0.0234498\n",
      "0.022964\n",
      "0.0227742\n",
      "0.0233363\n",
      "0.0234071\n",
      "0.0220289\n",
      "0.0224397\n",
      "0.0220878\n",
      "0.021678\n",
      "0.0228013\n",
      "0.0234103\n",
      "0.0230186\n",
      "0.0214215\n",
      "0.0219452\n",
      "0.0218303\n",
      "0.0210852\n",
      "0.0209676\n",
      "0.0206716\n",
      "0.0199494\n",
      "0.0199261\n",
      "0.0203598\n",
      "0.0196623\n",
      "0.0207024\n",
      "0.0213696\n",
      "0.0183651\n",
      "0.0192808\n",
      "0.0197877\n",
      "0.0192006\n",
      "0.0182846\n",
      "0.0199618\n",
      "0.0190226\n",
      "0.0190938\n",
      "0.0175466\n",
      "0.0172539\n",
      "0.0198717\n",
      "0.0174954\n",
      "0.016956\n",
      "0.0160543\n",
      "0.0180043\n",
      "0.0164278\n",
      "0.01693\n",
      "0.0157365\n",
      "0.0165738\n",
      "0.0164357\n",
      "0.0161098\n",
      "0.0160797\n",
      "0.0156753\n",
      "0.0155345\n",
      "0.0165091\n",
      "0.0152754\n",
      "0.0158422\n",
      "0.014516\n",
      "0.0154806\n",
      "0.0161521\n",
      "0.015008\n",
      "0.0160323\n",
      "0.0155245\n",
      "0.0145247\n",
      "0.0146519\n",
      "0.0153843\n",
      "0.0135372\n",
      "0.0147669\n",
      "0.0139296\n",
      "0.0149375\n",
      "0.0145812\n",
      "0.0141465\n",
      "0.0140678\n",
      "0.014508\n",
      "0.0143443\n",
      "0.0138971\n",
      "0.0143119\n",
      "0.0139548\n",
      "0.0145368\n",
      "0.0133188\n",
      "0.01329\n",
      "0.0135668\n",
      "0.0126293\n",
      "0.0132111\n",
      "0.0136706\n",
      "0.0131529\n",
      "0.0117125\n",
      "0.0133775\n",
      "0.0125811\n",
      "0.0121507\n",
      "0.0123964\n",
      "0.0124529\n",
      "0.0124875\n",
      "0.0130519\n",
      "0.0135099\n",
      "0.0118173\n",
      "0.0121054\n",
      "0.0131652\n",
      "0.0120519\n",
      "0.0123138\n",
      "0.0112382\n",
      "0.011757\n",
      "0.011896\n",
      "0.0113719\n",
      "0.0118421\n",
      "0.0112026\n",
      "0.0113304\n",
      "0.0111506\n",
      "0.0116367\n",
      "0.0106683\n",
      "0.0104171\n",
      "0.0114411\n",
      "0.0114554\n",
      "0.0105835\n",
      "0.0114119\n",
      "0.0106588\n",
      "0.0103181\n",
      "0.0104936\n",
      "0.0105311\n",
      "0.0106242\n",
      "0.0101533\n",
      "0.0110656\n",
      "0.0103005\n",
      "0.0105916\n",
      "0.010027\n",
      "0.0106119\n",
      "0.0108179\n",
      "0.00954474\n",
      "0.0106066\n",
      "0.010359\n",
      "0.0100327\n",
      "0.00936768\n",
      "0.00952045\n",
      "0.00946356\n",
      "0.00930992\n",
      "0.00909454\n",
      "0.00950197\n",
      "0.00937561\n",
      "0.00970791\n",
      "0.00992985\n",
      "0.00995432\n",
      "0.0096863\n",
      "0.00916633\n",
      "0.00871882\n",
      "0.00891404\n",
      "0.00938239\n",
      "0.00925455\n",
      "0.0087876\n",
      "0.0089628\n",
      "0.00856598\n",
      "0.00870098\n",
      "0.00896165\n",
      "0.00920162\n",
      "0.00886109\n",
      "0.00849562\n",
      "0.00806597\n",
      "0.00899867\n",
      "0.00863131\n",
      "0.00872264\n",
      "0.00896351\n",
      "0.00872998\n",
      "0.00843771\n",
      "0.00864594\n",
      "0.00861607\n",
      "0.00848023\n",
      "0.00885884\n",
      "0.00864566\n",
      "0.00824771\n",
      "0.00850811\n",
      "0.00839407\n",
      "0.00839125\n",
      "0.00815843\n",
      "0.00800696\n",
      "0.00838879\n",
      "0.00852917\n",
      "0.00803579\n",
      "0.00800767\n",
      "0.00831962\n",
      "0.00773163\n",
      "0.00917441\n",
      "0.00771196\n",
      "0.00824158\n",
      "0.00768456\n",
      "0.00731512\n",
      "0.00789907\n",
      "0.00736712\n",
      "0.00816177\n",
      "0.00815747\n",
      "0.00802945\n"
     ]
    }
   ],
   "source": [
    "for t in range(500):\n",
    "    loss_t, summary = train_batch(batch_size)\n",
    "    print(loss_t)\n",
    "    summary_writer.add_summary(summary, t)\n",
    "summary_writer.flush()"
   ]
  },
  {
   "cell_type": "code",
   "execution_count": null,
   "metadata": {
    "collapsed": true
   },
   "outputs": [],
   "source": []
  }
 ],
 "metadata": {
  "kernelspec": {
   "display_name": "Python 3",
   "language": "python",
   "name": "python3"
  },
  "language_info": {
   "codemirror_mode": {
    "name": "ipython",
    "version": 3
   },
   "file_extension": ".py",
   "mimetype": "text/x-python",
   "name": "python",
   "nbconvert_exporter": "python",
   "pygments_lexer": "ipython3",
   "version": "3.6.1"
  }
 },
 "nbformat": 4,
 "nbformat_minor": 2
}
